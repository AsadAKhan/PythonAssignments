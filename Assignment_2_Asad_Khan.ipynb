{
 "cells": [
  {
   "cell_type": "markdown",
   "metadata": {},
   "source": [
    "# Question 1"
   ]
  },
  {
   "cell_type": "code",
   "execution_count": 4,
   "metadata": {},
   "outputs": [
    {
     "name": "stdout",
     "output_type": "stream",
     "text": [
      "Enter marks of your English: 70\n",
      "Enter marks of your Physics: 80\n",
      "Enter marks of your Chemistry: 60\n",
      "Enter marks of your Maths: 90\n",
      "Enter marks of your Computer: 60\n",
      "72.0\n",
      "Congratulations! You've Passed Your Exam With B Grade\n"
     ]
    }
   ],
   "source": [
    "course1 = float(input(\"Enter marks of your English: \"))\n",
    "course2 = float(input(\"Enter marks of your Physics: \"))\n",
    "course3 = float(input(\"Enter marks of your Chemistry: \"))\n",
    "course4 = float(input(\"Enter marks of your Maths: \"))\n",
    "course5 = float(input(\"Enter marks of your Computer: \"))\n",
    "total = course1 + course2 + course3 + course4 + course5\n",
    "score = (total / 500) * 100\n",
    "print(score)\n",
    "if course1 <= 100 and course2 <= 100 and course3 <= 100 and course4 <= 100 and course5 <= 100:\n",
    "    if score >= 90 and score == 100:\n",
    "        print(\"Congratulations! You've Passed Your Exam With A+ Grade\")\n",
    "    elif score >= 80 and score < 90:\n",
    "        print(\"Congratulations! You've Passed Your Exam With A Grade\")\n",
    "    elif score >= 70 and score < 80:\n",
    "        print(\"Congratulations! You've Passed Your Exam With B Grade\")\n",
    "    elif score >= 60 and score < 70:\n",
    "        print(\"Congratulations! You've Passed Your Exam With C Grade\")\n",
    "    elif score < 60:\n",
    "        print(\"Sorry! You've Got F Grade\")\n",
    "else:\n",
    "    print(\"Course marks Should be less than 100\")"
   ]
  },
  {
   "cell_type": "markdown",
   "metadata": {},
   "source": [
    "# Question 2"
   ]
  },
  {
   "cell_type": "code",
   "execution_count": 9,
   "metadata": {},
   "outputs": [
    {
     "name": "stdout",
     "output_type": "stream",
     "text": [
      "Enter Number: 5\n",
      "Given Number Is Odd\n"
     ]
    }
   ],
   "source": [
    "try:\n",
    "    inputnumber = int(input(\"Enter Number: \"))\n",
    "    if inputnumber % 2 != 0:\n",
    "        print(\"Given Number Is Odd\")\n",
    "    else:\n",
    "        print(\"Given Number Is Even\")\n",
    "except:\n",
    "    print(\"Number Should Be Integer\")"
   ]
  },
  {
   "cell_type": "markdown",
   "metadata": {},
   "source": [
    "# Question 3"
   ]
  },
  {
   "cell_type": "code",
   "execution_count": 10,
   "metadata": {},
   "outputs": [
    {
     "data": {
      "text/plain": [
       "7"
      ]
     },
     "execution_count": 10,
     "metadata": {},
     "output_type": "execute_result"
    }
   ],
   "source": [
    "lst = [1,2,3,4,5,6,7]\n",
    "len(lst)"
   ]
  },
  {
   "cell_type": "markdown",
   "metadata": {},
   "source": [
    "# Question 4"
   ]
  },
  {
   "cell_type": "code",
   "execution_count": 20,
   "metadata": {},
   "outputs": [
    {
     "name": "stdout",
     "output_type": "stream",
     "text": [
      "['sum']\n",
      "29.6\n"
     ]
    }
   ],
   "source": [
    "lst = [3,5,6,7,'sum',3.6,5]\n",
    "sumdata = 0\n",
    "stringcontain = []\n",
    "for i in lst:\n",
    "    if type(i) == str:\n",
    "        stringcontain.append(i)\n",
    "    elif type(i) == int or type(i) == float:\n",
    "        sumdata += i\n",
    "print(stringcontain)\n",
    "print(sumdata)"
   ]
  },
  {
   "cell_type": "markdown",
   "metadata": {},
   "source": [
    "# Question 5"
   ]
  },
  {
   "cell_type": "code",
   "execution_count": 21,
   "metadata": {},
   "outputs": [
    {
     "data": {
      "text/plain": [
       "865"
      ]
     },
     "execution_count": 21,
     "metadata": {},
     "output_type": "execute_result"
    }
   ],
   "source": [
    "lst1 = [4,6,8,9,43,2,4,6,865,34,23,12,576]\n",
    "max(lst1)"
   ]
  },
  {
   "cell_type": "markdown",
   "metadata": {},
   "source": [
    "# Question 6"
   ]
  },
  {
   "cell_type": "code",
   "execution_count": 22,
   "metadata": {},
   "outputs": [
    {
     "name": "stdout",
     "output_type": "stream",
     "text": [
      "1\n",
      "1\n",
      "2\n",
      "3\n"
     ]
    }
   ],
   "source": [
    "lst2 = [1, 1, 2, 3, 5, 8, 13, 21, 34, 55, 89]\n",
    "for i in lst2:\n",
    "    if i < 5:\n",
    "        print(i)"
   ]
  },
  {
   "cell_type": "code",
   "execution_count": null,
   "metadata": {},
   "outputs": [],
   "source": []
  }
 ],
 "metadata": {
  "kernelspec": {
   "display_name": "Python 3",
   "language": "python",
   "name": "python3"
  },
  "language_info": {
   "codemirror_mode": {
    "name": "ipython",
    "version": 3
   },
   "file_extension": ".py",
   "mimetype": "text/x-python",
   "name": "python",
   "nbconvert_exporter": "python",
   "pygments_lexer": "ipython3",
   "version": "3.7.3"
  }
 },
 "nbformat": 4,
 "nbformat_minor": 2
}
