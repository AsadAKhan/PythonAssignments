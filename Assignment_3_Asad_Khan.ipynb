{
 "cells": [
  {
   "cell_type": "markdown",
   "metadata": {},
   "source": [
    "# Question 1"
   ]
  },
  {
   "cell_type": "code",
   "execution_count": 10,
   "metadata": {},
   "outputs": [
    {
     "name": "stdout",
     "output_type": "stream",
     "text": [
      "Enter Operation To Do! A For Addition, S For Subtraction, M For Multiplication, D For Division and P For Power: p\n",
      "Enter Number: 5\n",
      "Enter Power To Check: 2\n",
      "25\n"
     ]
    }
   ],
   "source": [
    "inputchoice = input(\"Enter Operation To Do! A For Addition, S For Subtraction, M For Multiplication, D For Division and P For Power: \")\n",
    "inputchoice = inputchoice.lower()\n",
    "\n",
    "if inputchoice == 'a':\n",
    "    firstnumber = float(input(\"Enter First Number: \"))\n",
    "    secondnumber = float(input(\"Enter Second Number: \"))\n",
    "    add = firstnumber + secondnumber\n",
    "    print(add)\n",
    "elif inputchoice == 's':\n",
    "    firstnumber = float(input(\"Enter First Number: \"))\n",
    "    secondnumber = float(input(\"Enter Second Number: \"))\n",
    "    sub = firstnumber - secondnumber\n",
    "    print(sub)\n",
    "elif inputchoice == 'm':\n",
    "    firstnumber = float(input(\"Enter First Number: \"))\n",
    "    secondnumber = float(input(\"Enter Second Number: \"))\n",
    "    mul = firstnumber * secondnumber\n",
    "    print(mul)\n",
    "elif inputchoice == 'd':\n",
    "    firstnumber = float(input(\"Enter First Number: \"))\n",
    "    secondnumber = float(input(\"Enter Second Number: \"))\n",
    "    div = firstnumber / secondnumber\n",
    "    print(div)\n",
    "elif inputchoice == 'p':\n",
    "    number = int(input(\"Enter Number: \"))\n",
    "    power = int(input(\"Enter Power To Check: \"))\n",
    "    result = number ** power\n",
    "    print(result)\n",
    "else:\n",
    "    print(\"Given Operation Is Invalid!\")"
   ]
  },
  {
   "cell_type": "markdown",
   "metadata": {},
   "source": [
    "# Question 2"
   ]
  },
  {
   "cell_type": "code",
   "execution_count": 13,
   "metadata": {},
   "outputs": [
    {
     "name": "stdout",
     "output_type": "stream",
     "text": [
      "List Contains 2 Numeric Value\n"
     ]
    }
   ],
   "source": [
    "lst = ['a', 'v', 5, 7.5, 'w']\n",
    "count = 0\n",
    "\n",
    "for i in lst:\n",
    "    if type(i) == int or type(i) == float:\n",
    "        count += 1\n",
    "print(\"List Contains \" + str(count) + \" Numeric Value\")"
   ]
  },
  {
   "cell_type": "markdown",
   "metadata": {},
   "source": [
    "# Question 3"
   ]
  },
  {
   "cell_type": "code",
   "execution_count": 15,
   "metadata": {},
   "outputs": [
    {
     "name": "stdout",
     "output_type": "stream",
     "text": [
      "Old Dict is:  {'key1': 'far', 'key2': 'cat'}\n",
      "Updated Dict is:  {'key1': 'far', 'key2': 'cat', 'key3': 'lion', 'key4': 'bird'}\n"
     ]
    }
   ],
   "source": [
    "olddict = {'key1':'far', 'key2':'cat'} \n",
    "print(\"Old Dict is: \", olddict) \n",
    "\n",
    "\n",
    "olddict['key3'] = 'lion'\n",
    "olddict['key4'] = 'bird'\n",
    "print(\"Updated Dict is: \", olddict) "
   ]
  },
  {
   "cell_type": "markdown",
   "metadata": {},
   "source": [
    "# Question 4"
   ]
  },
  {
   "cell_type": "code",
   "execution_count": 25,
   "metadata": {},
   "outputs": [
    {
     "name": "stdout",
     "output_type": "stream",
     "text": [
      "Sum Of Dict's Numeric Value Is: 10\n"
     ]
    }
   ],
   "source": [
    "dict1 = {'key1' : 'rad', 'key2' : 'var', 'key3': 4, 'key4' : 6}\n",
    "sumvalues = 0\n",
    "for i in dict1.values():\n",
    "    if type(i) == int or type(i) == float:\n",
    "        sumvalues += i\n",
    "print(\"Sum Of Dict's Numeric Value Is: \" + str(sumvalues))"
   ]
  },
  {
   "cell_type": "markdown",
   "metadata": {},
   "source": [
    "# Question 5"
   ]
  },
  {
   "cell_type": "code",
   "execution_count": 39,
   "metadata": {},
   "outputs": [
    {
     "name": "stdout",
     "output_type": "stream",
     "text": [
      "Enter The Animal To Check: fish\n",
      "fish found in the dictionary!\n"
     ]
    }
   ],
   "source": [
    "animals = {'cats': 1, 'dogs': 2, 'fish': 3, 'lion': 4, 'Monkey' : 5}\n",
    "inputcheck = input(\"Enter The Animal To Check: \")\n",
    "if inputcheck in animals:\n",
    "    print(inputcheck + ' found in the dictionary!')\n",
    "else:\n",
    "    print(\"No Match Found!\")"
   ]
  },
  {
   "cell_type": "markdown",
   "metadata": {},
   "source": [
    "# Question 6"
   ]
  },
  {
   "cell_type": "code",
   "execution_count": 38,
   "metadata": {},
   "outputs": [
    {
     "name": "stdout",
     "output_type": "stream",
     "text": [
      "{'bear', 'lion'} These are the values that were duplicated in the list.\n"
     ]
    }
   ],
   "source": [
    "lst4 = ['lion', 'bear', 'cat', 'lion', 'fish', 'bear']\n",
    "repeated = []\n",
    "for i in lst4:\n",
    "    if lst4.count(i) > 1:\n",
    "        repeated.append(i)\n",
    "print(set(repeated), \"These are the values that were duplicated in the list.\")"
   ]
  },
  {
   "cell_type": "code",
   "execution_count": null,
   "metadata": {},
   "outputs": [],
   "source": []
  }
 ],
 "metadata": {
  "kernelspec": {
   "display_name": "Python 3",
   "language": "python",
   "name": "python3"
  },
  "language_info": {
   "codemirror_mode": {
    "name": "ipython",
    "version": 3
   },
   "file_extension": ".py",
   "mimetype": "text/x-python",
   "name": "python",
   "nbconvert_exporter": "python",
   "pygments_lexer": "ipython3",
   "version": "3.7.3"
  }
 },
 "nbformat": 4,
 "nbformat_minor": 2
}
