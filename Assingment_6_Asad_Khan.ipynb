{
 "cells": [
  {
   "cell_type": "markdown",
   "metadata": {},
   "source": [
    "# Question 1"
   ]
  },
  {
   "cell_type": "markdown",
   "metadata": {},
   "source": [
    "Object-oriented programming (OOP) is a paradigm in which programmers treat things like a real world object, define the data type of a data structure, and also the types of operations (functions) that can be applied to the data structure.\n",
    "\n",
    "In this way, the data structure becomes an object that includes both data and functions. Moreover, programmers can create relationships between different objects. For example, object one can inherit one or more characteristics from object two."
   ]
  },
  {
   "cell_type": "markdown",
   "metadata": {},
   "source": [
    "# Question 2"
   ]
  },
  {
   "cell_type": "markdown",
   "metadata": {},
   "source": [
    "Benefits of oops include: \n",
    "1- Reusability of code\n",
    "2- Maintainabilty of code \n",
    "3- Portability \n",
    "4- Extensibility"
   ]
  },
  {
   "cell_type": "markdown",
   "metadata": {},
   "source": [
    "# Question 3"
   ]
  },
  {
   "cell_type": "markdown",
   "metadata": {},
   "source": [
    "1- ‘Function’ is a segment of code that          |          ‘Method’ is a segment occurring as a series of statements and\n",
    "executes an action and gives out a reply.        |          is executed upon initiation of arguments in the method.\n",
    "\n",
    "2- The existence of functions is independent     |          Methods do not have an independent existence.\n",
    "\n",
    "3- Functions are called independently            |          An instance or object is used to call methods.\n",
    "\n",
    "4- The functions are a self-describing block code|          while methods can be used to manipulate an instance variable of a                                                               given class which is of interest."
   ]
  },
  {
   "cell_type": "markdown",
   "metadata": {},
   "source": [
    "# Question 4"
   ]
  },
  {
   "cell_type": "markdown",
   "metadata": {},
   "source": [
    "Class: A class is a blueprint that defines the variables and the methods common to all objects of a certain kind.\n",
    "\n",
    "Object: An object is nothing but a self-contained component which consists of methods and properties to make a particular type of data useful. Object determines the behavior of the class. When you send a message to an object, you are asking the object to invoke or execute one of its methods.\n",
    "\n",
    "Attribute: An attribute denotes a part of an aggregate object, and so is used during analysis as well as design to express a singular property of the class. Using the language-independent syntax, an attribute may have a name, a class, or both.\n",
    "\n",
    "Behavior: It tells us about the operations or things that the object can perform."
   ]
  },
  {
   "cell_type": "markdown",
   "metadata": {},
   "source": [
    "# Question 5"
   ]
  },
  {
   "cell_type": "code",
   "execution_count": 15,
   "metadata": {},
   "outputs": [],
   "source": [
    "class Car():\n",
    "    def __init__(self, model, made, name, color, engineCapacity):\n",
    "        self.model = model\n",
    "        self.made = made\n",
    "        self.name = name\n",
    "        self.color = color\n",
    "        self.engineCapacity = engineCapacity\n",
    "    def getModel(self):\n",
    "        print(\"Model Of This Car Is: \", self.model)\n",
    "    \n",
    "    def getColor(self):\n",
    "        print(\"Color Of This Car Is: \", self.color)\n",
    "    \n",
    "    def getName(self):\n",
    "        print(\"Name Of This Car Is: \", self.name)\n"
   ]
  },
  {
   "cell_type": "code",
   "execution_count": 16,
   "metadata": {},
   "outputs": [],
   "source": [
    "Corolla = Car(2000, \"Toyota\", \"Corolla\",\"Grey\", \"1600CC\")"
   ]
  },
  {
   "cell_type": "code",
   "execution_count": 17,
   "metadata": {},
   "outputs": [
    {
     "name": "stdout",
     "output_type": "stream",
     "text": [
      "Model Of This Car Is:  2000\n"
     ]
    }
   ],
   "source": [
    "Corolla.getModel()"
   ]
  },
  {
   "cell_type": "code",
   "execution_count": null,
   "metadata": {},
   "outputs": [],
   "source": []
  }
 ],
 "metadata": {
  "kernelspec": {
   "display_name": "Python 3",
   "language": "python",
   "name": "python3"
  },
  "language_info": {
   "codemirror_mode": {
    "name": "ipython",
    "version": 3
   },
   "file_extension": ".py",
   "mimetype": "text/x-python",
   "name": "python",
   "nbconvert_exporter": "python",
   "pygments_lexer": "ipython3",
   "version": "3.7.3"
  }
 },
 "nbformat": 4,
 "nbformat_minor": 2
}
