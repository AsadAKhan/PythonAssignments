{
 "cells": [
  {
   "cell_type": "markdown",
   "metadata": {},
   "source": [
    "# Question 1"
   ]
  },
  {
   "cell_type": "code",
   "execution_count": 23,
   "metadata": {},
   "outputs": [],
   "source": [
    "diction = {'first_name':'hamad', 'last_name':'ahmed', 'age':25, 'city':'karachi'}"
   ]
  },
  {
   "cell_type": "code",
   "execution_count": 24,
   "metadata": {},
   "outputs": [
    {
     "name": "stdout",
     "output_type": "stream",
     "text": [
      "first_name: hamad\n",
      "last_name: ahmed\n",
      "age: 25\n",
      "city: karachi\n"
     ]
    }
   ],
   "source": [
    "for i,j in diction.items():\n",
    "    print(i+': ' + str(j))\n",
    "    "
   ]
  },
  {
   "cell_type": "code",
   "execution_count": 25,
   "metadata": {},
   "outputs": [
    {
     "data": {
      "text/plain": [
       "{'first_name': 'hamad',\n",
       " 'last_name': 'ahmed',\n",
       " 'age': 25,\n",
       " 'city': 'karachi',\n",
       " 'qualificaion': 'Bachelor'}"
      ]
     },
     "execution_count": 25,
     "metadata": {},
     "output_type": "execute_result"
    }
   ],
   "source": [
    "diction['qualificaion'] = 'Bachelor'\n",
    "diction"
   ]
  },
  {
   "cell_type": "code",
   "execution_count": 26,
   "metadata": {},
   "outputs": [
    {
     "data": {
      "text/plain": [
       "{'first_name': 'hamad',\n",
       " 'last_name': 'ahmed',\n",
       " 'age': 25,\n",
       " 'city': 'karachi',\n",
       " 'qualificaion': 'Masters'}"
      ]
     },
     "execution_count": 26,
     "metadata": {},
     "output_type": "execute_result"
    }
   ],
   "source": [
    "diction['qualificaion'] = 'Masters'\n",
    "diction"
   ]
  },
  {
   "cell_type": "code",
   "execution_count": 27,
   "metadata": {},
   "outputs": [
    {
     "data": {
      "text/plain": [
       "{'first_name': 'hamad', 'last_name': 'ahmed', 'age': 25, 'city': 'karachi'}"
      ]
     },
     "execution_count": 27,
     "metadata": {},
     "output_type": "execute_result"
    }
   ],
   "source": [
    "del diction['qualificaion']\n",
    "diction"
   ]
  },
  {
   "cell_type": "markdown",
   "metadata": {},
   "source": [
    "# Question 2"
   ]
  },
  {
   "cell_type": "code",
   "execution_count": 29,
   "metadata": {},
   "outputs": [],
   "source": [
    "cities = {'Karachi':{'Country':'Pakistan', 'Approximate_Population':'2 Crore', 'Fact': 'Sea'}, \n",
    "          'Lahore':{'Country':'Pakistan', 'Approximate_Population':'50 Lac', 'Fact': 'Smog'}, \n",
    "          'Islamabad':{'Country':'Pakistan', 'Approximate_Population':'10 Lac', 'Fact': 'Capital'}}"
   ]
  },
  {
   "cell_type": "code",
   "execution_count": 48,
   "metadata": {},
   "outputs": [
    {
     "name": "stdout",
     "output_type": "stream",
     "text": [
      "Karachi[Country: Pakistan, Population: 2 Crore, Sea]\n",
      "Lahore[Country: Pakistan, Population: 50 Lac, Smog]\n",
      "Islamabad[Country: Pakistan, Population: 10 Lac, Capital]\n"
     ]
    }
   ],
   "source": [
    "for i,j in cities.items():\n",
    "    print(i + '[' + 'Country: ' + str(j['Country']) + ', ' + 'Population: ' + str(j['Approximate_Population'] + ', ' + str(j['Fact'] + ']')))"
   ]
  },
  {
   "cell_type": "markdown",
   "metadata": {},
   "source": [
    "# Question 3"
   ]
  },
  {
   "cell_type": "code",
   "execution_count": 54,
   "metadata": {},
   "outputs": [
    {
     "name": "stdout",
     "output_type": "stream",
     "text": [
      "Enter Age: 16\n",
      "Your Ticket Cost Is $15\n"
     ]
    }
   ],
   "source": [
    "for i in range(1):\n",
    "    age = int(input(\"Enter Age: \"))\n",
    "    if age > 12:\n",
    "        print(\"Your Ticket Cost Is $15\")\n",
    "    if age >= 3 and age <= 12:\n",
    "        print(\"Your Ticket Cost Is $10\")\n",
    "    if age < 3:\n",
    "        print(\"Your Ticket Is Free\")"
   ]
  },
  {
   "cell_type": "markdown",
   "metadata": {},
   "source": [
    "# Question 4"
   ]
  },
  {
   "cell_type": "code",
   "execution_count": 55,
   "metadata": {},
   "outputs": [
    {
     "name": "stdout",
     "output_type": "stream",
     "text": [
      "One Of My Favorite Book Is Victory At The Narrow Road\n"
     ]
    }
   ],
   "source": [
    "def bookFunc(title):\n",
    "    print('One Of My Favorite Book Is ' + title)\n",
    "bookFunc('Victory At The Narrow Road')"
   ]
  },
  {
   "cell_type": "markdown",
   "metadata": {},
   "source": [
    "# Question 5"
   ]
  },
  {
   "cell_type": "code",
   "execution_count": null,
   "metadata": {},
   "outputs": [],
   "source": [
    "from random import seed\n",
    "from random import randint\n",
    "seed(1)\n",
    "value = randint(0, 30)\n",
    "for _ in range(3):\n",
    "    number = int(input(\"Enter Your Integer: \"))\n",
    "    if number < value:\n",
    "        print(\"Your Guessed Number Is Lower\")\n",
    "    if number > value:\n",
    "        print(\"Your Guessed Number Is Greater\")"
   ]
  },
  {
   "cell_type": "code",
   "execution_count": null,
   "metadata": {},
   "outputs": [],
   "source": []
  }
 ],
 "metadata": {
  "kernelspec": {
   "display_name": "Python 3",
   "language": "python",
   "name": "python3"
  },
  "language_info": {
   "codemirror_mode": {
    "name": "ipython",
    "version": 3
   },
   "file_extension": ".py",
   "mimetype": "text/x-python",
   "name": "python",
   "nbconvert_exporter": "python",
   "pygments_lexer": "ipython3",
   "version": "3.7.3"
  }
 },
 "nbformat": 4,
 "nbformat_minor": 2
}
