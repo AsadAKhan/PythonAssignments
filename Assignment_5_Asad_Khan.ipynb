{
 "cells": [
  {
   "cell_type": "markdown",
   "metadata": {},
   "source": [
    "# Question 1"
   ]
  },
  {
   "cell_type": "code",
   "execution_count": 11,
   "metadata": {},
   "outputs": [],
   "source": [
    "def factorial(num):\n",
    "    fact = 1\n",
    "    if num < 0:\n",
    "        return \"Number Should be Positive\"\n",
    "    elif num == 0:\n",
    "        return \"Factorial of zero is 1\"\n",
    "    else:\n",
    "        for i in range(1, num + 1):\n",
    "            fact *= i\n",
    "        return fact"
   ]
  },
  {
   "cell_type": "code",
   "execution_count": 13,
   "metadata": {},
   "outputs": [
    {
     "data": {
      "text/plain": [
       "720"
      ]
     },
     "execution_count": 13,
     "metadata": {},
     "output_type": "execute_result"
    }
   ],
   "source": [
    "factorial(6)"
   ]
  },
  {
   "cell_type": "markdown",
   "metadata": {},
   "source": [
    "# Question 2"
   ]
  },
  {
   "cell_type": "code",
   "execution_count": 34,
   "metadata": {},
   "outputs": [],
   "source": [
    "def calculateLetter(user_input):\n",
    "    lower_count = 0\n",
    "    upper_count = 0\n",
    "    for i in range(len(user_input)):\n",
    "        if user_input[i].islower():\n",
    "            lower_count += 1\n",
    "        elif user_input[i].isupper():\n",
    "            upper_count += 1\n",
    "    print(\"String contains\", lower_count, \"lower case letters and\", upper_count, \"upper case letters.\")"
   ]
  },
  {
   "cell_type": "code",
   "execution_count": 35,
   "metadata": {},
   "outputs": [
    {
     "name": "stdout",
     "output_type": "stream",
     "text": [
      "String contains 6 lower case letters and 8 upper case letters.\n"
     ]
    }
   ],
   "source": [
    "calculateLetter('How aRE YOU doiNG')"
   ]
  },
  {
   "cell_type": "markdown",
   "metadata": {},
   "source": [
    "# Question 3"
   ]
  },
  {
   "cell_type": "code",
   "execution_count": 36,
   "metadata": {},
   "outputs": [],
   "source": [
    "def countEven(lst):\n",
    "    count = 0\n",
    "    for i in lst:\n",
    "        if i % 2 == 0:\n",
    "            print(i)"
   ]
  },
  {
   "cell_type": "code",
   "execution_count": 37,
   "metadata": {},
   "outputs": [
    {
     "name": "stdout",
     "output_type": "stream",
     "text": [
      "2\n",
      "4\n",
      "6\n",
      "8\n",
      "10\n"
     ]
    }
   ],
   "source": [
    "countEven([1,2,3,4,5,6,7,8,9,10])"
   ]
  },
  {
   "cell_type": "markdown",
   "metadata": {},
   "source": [
    "# Question 4"
   ]
  },
  {
   "cell_type": "code",
   "execution_count": 38,
   "metadata": {},
   "outputs": [],
   "source": [
    "def palindrome(inp):\n",
    "    if inp[::-1] == inp:\n",
    "        return \"The string is palindrome\"\n",
    "    else:\n",
    "        return \"The string is not palindrome\""
   ]
  },
  {
   "cell_type": "code",
   "execution_count": 40,
   "metadata": {},
   "outputs": [
    {
     "data": {
      "text/plain": [
       "'The string is not palindrome'"
      ]
     },
     "execution_count": 40,
     "metadata": {},
     "output_type": "execute_result"
    }
   ],
   "source": [
    "palindrome('mada')"
   ]
  },
  {
   "cell_type": "markdown",
   "metadata": {},
   "source": [
    "# Question 5"
   ]
  },
  {
   "cell_type": "code",
   "execution_count": 43,
   "metadata": {},
   "outputs": [],
   "source": [
    "def checkPrime(num):\n",
    "    for i in range(2,num):\n",
    "        if num % i == 0:\n",
    "            print(\"Number is not Prime\")\n",
    "            break\n",
    "        else:\n",
    "            print(\"Number is Prime\")\n",
    "            break"
   ]
  },
  {
   "cell_type": "code",
   "execution_count": 45,
   "metadata": {},
   "outputs": [
    {
     "name": "stdout",
     "output_type": "stream",
     "text": [
      "Number is not Prime\n"
     ]
    }
   ],
   "source": [
    "checkPrime(4)"
   ]
  },
  {
   "cell_type": "markdown",
   "metadata": {},
   "source": [
    "# Question 6"
   ]
  },
  {
   "cell_type": "code",
   "execution_count": 81,
   "metadata": {},
   "outputs": [],
   "source": [
    "def customerShopping(*items):\n",
    "    items_list = []\n",
    "    for i in items:\n",
    "        items_list.append(i)\n",
    "    if not items_list:\n",
    "        print(\"Customer Didn't Buy Anything!\")\n",
    "    else:\n",
    "        print(\"Customer Bought These Items:\", items_list)"
   ]
  },
  {
   "cell_type": "code",
   "execution_count": 85,
   "metadata": {},
   "outputs": [
    {
     "name": "stdout",
     "output_type": "stream",
     "text": [
      "Customer Bought These Items: ['Milk', 'Juice', 'Snacks']\n"
     ]
    }
   ],
   "source": [
    "customerShopping('Milk', 'Juice', 'Snacks')"
   ]
  },
  {
   "cell_type": "code",
   "execution_count": null,
   "metadata": {},
   "outputs": [],
   "source": []
  }
 ],
 "metadata": {
  "kernelspec": {
   "display_name": "Python 3",
   "language": "python",
   "name": "python3"
  },
  "language_info": {
   "codemirror_mode": {
    "name": "ipython",
    "version": 3
   },
   "file_extension": ".py",
   "mimetype": "text/x-python",
   "name": "python",
   "nbconvert_exporter": "python",
   "pygments_lexer": "ipython3",
   "version": "3.7.3"
  }
 },
 "nbformat": 4,
 "nbformat_minor": 2
}
